{
 "cells": [
  {
   "cell_type": "code",
   "execution_count": 23,
   "id": "48c6a240",
   "metadata": {},
   "outputs": [],
   "source": [
    "import pandas as pd\n",
    "import re\n",
    "df = pd.read_excel('For Analyst.xlsx', sheet_name = 'dh_product_lookup')"
   ]
  },
  {
   "cell_type": "code",
   "execution_count": 24,
   "id": "fe1ecaa6",
   "metadata": {},
   "outputs": [
    {
     "data": {
      "text/html": [
       "<div>\n",
       "<style scoped>\n",
       "    .dataframe tbody tr th:only-of-type {\n",
       "        vertical-align: middle;\n",
       "    }\n",
       "\n",
       "    .dataframe tbody tr th {\n",
       "        vertical-align: top;\n",
       "    }\n",
       "\n",
       "    .dataframe thead th {\n",
       "        text-align: right;\n",
       "    }\n",
       "</style>\n",
       "<table border=\"1\" class=\"dataframe\">\n",
       "  <thead>\n",
       "    <tr style=\"text-align: right;\">\n",
       "      <th></th>\n",
       "      <th>upc</th>\n",
       "      <th>product_description</th>\n",
       "      <th>commodity</th>\n",
       "      <th>brand</th>\n",
       "      <th>product_size</th>\n",
       "      <th>product_size.1</th>\n",
       "      <th>pro_descandsize</th>\n",
       "    </tr>\n",
       "  </thead>\n",
       "  <tbody>\n",
       "    <tr>\n",
       "      <th>0</th>\n",
       "      <td>111112360</td>\n",
       "      <td>VINCENT S ORIG MARINARA S</td>\n",
       "      <td>pasta sauce</td>\n",
       "      <td>Vincent's</td>\n",
       "      <td>25 OZ</td>\n",
       "      <td>25 OZ</td>\n",
       "      <td>VINCENT S ORIG MARINARA S 25 OZ</td>\n",
       "    </tr>\n",
       "    <tr>\n",
       "      <th>1</th>\n",
       "      <td>566300023</td>\n",
       "      <td>PINE MOUNTAIN SYRUP</td>\n",
       "      <td>syrups</td>\n",
       "      <td>Pine Mountain</td>\n",
       "      <td>40 OZ</td>\n",
       "      <td>40 OZ</td>\n",
       "      <td>PINE MOUNTAIN SYRUP 40 OZ</td>\n",
       "    </tr>\n",
       "    <tr>\n",
       "      <th>2</th>\n",
       "      <td>566300028</td>\n",
       "      <td>MILLER CANE SYRUP</td>\n",
       "      <td>syrups</td>\n",
       "      <td>Miller</td>\n",
       "      <td>19 OZ</td>\n",
       "      <td>19 OZ</td>\n",
       "      <td>MILLER CANE SYRUP 19 OZ</td>\n",
       "    </tr>\n",
       "    <tr>\n",
       "      <th>3</th>\n",
       "      <td>566300029</td>\n",
       "      <td>MILLER CANE SYRUP</td>\n",
       "      <td>syrups</td>\n",
       "      <td>Miller</td>\n",
       "      <td>12 OZ</td>\n",
       "      <td>12 OZ</td>\n",
       "      <td>MILLER CANE SYRUP 12 OZ</td>\n",
       "    </tr>\n",
       "    <tr>\n",
       "      <th>4</th>\n",
       "      <td>566300035</td>\n",
       "      <td>PINE MOUNTAIN SYRUP</td>\n",
       "      <td>syrups</td>\n",
       "      <td>Pine Mountain</td>\n",
       "      <td>19 OZ</td>\n",
       "      <td>19 OZ</td>\n",
       "      <td>PINE MOUNTAIN SYRUP 19 OZ</td>\n",
       "    </tr>\n",
       "  </tbody>\n",
       "</table>\n",
       "</div>"
      ],
      "text/plain": [
       "         upc        product_description    commodity          brand  \\\n",
       "0  111112360  VINCENT S ORIG MARINARA S  pasta sauce      Vincent's   \n",
       "1  566300023        PINE MOUNTAIN SYRUP       syrups  Pine Mountain   \n",
       "2  566300028          MILLER CANE SYRUP       syrups         Miller   \n",
       "3  566300029          MILLER CANE SYRUP       syrups         Miller   \n",
       "4  566300035        PINE MOUNTAIN SYRUP       syrups  Pine Mountain   \n",
       "\n",
       "  product_size product_size.1                  pro_descandsize  \n",
       "0        25 OZ          25 OZ  VINCENT S ORIG MARINARA S 25 OZ  \n",
       "1        40 OZ          40 OZ        PINE MOUNTAIN SYRUP 40 OZ  \n",
       "2        19 OZ          19 OZ          MILLER CANE SYRUP 19 OZ  \n",
       "3        12 OZ          12 OZ          MILLER CANE SYRUP 12 OZ  \n",
       "4        19 OZ          19 OZ        PINE MOUNTAIN SYRUP 19 OZ  "
      ]
     },
     "execution_count": 24,
     "metadata": {},
     "output_type": "execute_result"
    }
   ],
   "source": [
    "df.head()"
   ]
  },
  {
   "cell_type": "code",
   "execution_count": 25,
   "id": "d50492e3",
   "metadata": {},
   "outputs": [],
   "source": [
    "df['product_size'] = df['product_size'].astype(str)"
   ]
  },
  {
   "cell_type": "code",
   "execution_count": 26,
   "id": "83d05ea4",
   "metadata": {},
   "outputs": [],
   "source": [
    "def clean_product_size(size):\n",
    "    if pd.isnull(size):\n",
    "        return size\n",
    "    size = re.sub(r'(\\d+)\\s+(\\d+)/(\\d+)', lambda x: str(int(x.group(1)) + float(x.group(2)) / float(x.group(3))), size) #แปลงสตริงเศษส่วนเป็นทศนิยม\n",
    "    size = re.sub(r'\\b\\.\\d+\\b', lambda x: '0'+x.group(0), size) #แปลงสตริงที่มีจุดทศนิยมแต่ไม่มีหลักหน่วย\n",
    "    size = ' '.join(size.split()) #ลบช่องว่างหลายช่องให้เหลือแค่ช่องเดียว\n",
    "    size = size.replace('OUNCE', 'OZ')\n",
    "    return size"
   ]
  },
  {
   "cell_type": "code",
   "execution_count": 27,
   "id": "852585c8",
   "metadata": {},
   "outputs": [],
   "source": [
    "df['product_size'] = df['product_size'].apply(clean_product_size)\n",
    "df['pro_descandsize'] = df['pro_descandsize'].apply(clean_product_size)"
   ]
  },
  {
   "cell_type": "code",
   "execution_count": 28,
   "id": "9cd1de4b",
   "metadata": {},
   "outputs": [
    {
     "data": {
      "text/html": [
       "<div>\n",
       "<style scoped>\n",
       "    .dataframe tbody tr th:only-of-type {\n",
       "        vertical-align: middle;\n",
       "    }\n",
       "\n",
       "    .dataframe tbody tr th {\n",
       "        vertical-align: top;\n",
       "    }\n",
       "\n",
       "    .dataframe thead th {\n",
       "        text-align: right;\n",
       "    }\n",
       "</style>\n",
       "<table border=\"1\" class=\"dataframe\">\n",
       "  <thead>\n",
       "    <tr style=\"text-align: right;\">\n",
       "      <th></th>\n",
       "      <th>upc</th>\n",
       "      <th>product_description</th>\n",
       "      <th>commodity</th>\n",
       "      <th>brand</th>\n",
       "      <th>product_size</th>\n",
       "      <th>product_size.1</th>\n",
       "      <th>pro_descandsize</th>\n",
       "    </tr>\n",
       "  </thead>\n",
       "  <tbody>\n",
       "    <tr>\n",
       "      <th>0</th>\n",
       "      <td>111112360</td>\n",
       "      <td>VINCENT S ORIG MARINARA S</td>\n",
       "      <td>pasta sauce</td>\n",
       "      <td>Vincent's</td>\n",
       "      <td>25 OZ</td>\n",
       "      <td>25 OZ</td>\n",
       "      <td>VINCENT S ORIG MARINARA S 25 OZ</td>\n",
       "    </tr>\n",
       "    <tr>\n",
       "      <th>1</th>\n",
       "      <td>566300023</td>\n",
       "      <td>PINE MOUNTAIN SYRUP</td>\n",
       "      <td>syrups</td>\n",
       "      <td>Pine Mountain</td>\n",
       "      <td>40 OZ</td>\n",
       "      <td>40 OZ</td>\n",
       "      <td>PINE MOUNTAIN SYRUP 40 OZ</td>\n",
       "    </tr>\n",
       "    <tr>\n",
       "      <th>2</th>\n",
       "      <td>566300028</td>\n",
       "      <td>MILLER CANE SYRUP</td>\n",
       "      <td>syrups</td>\n",
       "      <td>Miller</td>\n",
       "      <td>19 OZ</td>\n",
       "      <td>19 OZ</td>\n",
       "      <td>MILLER CANE SYRUP 19 OZ</td>\n",
       "    </tr>\n",
       "    <tr>\n",
       "      <th>3</th>\n",
       "      <td>566300029</td>\n",
       "      <td>MILLER CANE SYRUP</td>\n",
       "      <td>syrups</td>\n",
       "      <td>Miller</td>\n",
       "      <td>12 OZ</td>\n",
       "      <td>12 OZ</td>\n",
       "      <td>MILLER CANE SYRUP 12 OZ</td>\n",
       "    </tr>\n",
       "    <tr>\n",
       "      <th>4</th>\n",
       "      <td>566300035</td>\n",
       "      <td>PINE MOUNTAIN SYRUP</td>\n",
       "      <td>syrups</td>\n",
       "      <td>Pine Mountain</td>\n",
       "      <td>19 OZ</td>\n",
       "      <td>19 OZ</td>\n",
       "      <td>PINE MOUNTAIN SYRUP 19 OZ</td>\n",
       "    </tr>\n",
       "    <tr>\n",
       "      <th>...</th>\n",
       "      <td>...</td>\n",
       "      <td>...</td>\n",
       "      <td>...</td>\n",
       "      <td>...</td>\n",
       "      <td>...</td>\n",
       "      <td>...</td>\n",
       "      <td>...</td>\n",
       "    </tr>\n",
       "    <tr>\n",
       "      <th>922</th>\n",
       "      <td>9999985217</td>\n",
       "      <td>PRIVATE LABEL ALPHABETS</td>\n",
       "      <td>pasta</td>\n",
       "      <td>Private Label</td>\n",
       "      <td>16 OZ</td>\n",
       "      <td>16 OZ</td>\n",
       "      <td>PRIVATE LABEL ALPHABETS 16 OZ</td>\n",
       "    </tr>\n",
       "    <tr>\n",
       "      <th>923</th>\n",
       "      <td>9999985260</td>\n",
       "      <td>PRIVATE LABEL COMPLETE PANCAKE MIX</td>\n",
       "      <td>pancake mixes</td>\n",
       "      <td>Private Label</td>\n",
       "      <td>32 OZ</td>\n",
       "      <td>32 OZ</td>\n",
       "      <td>PRIVATE LABEL COMPLETE PANCAKE MIX 32 OZ</td>\n",
       "    </tr>\n",
       "    <tr>\n",
       "      <th>924</th>\n",
       "      <td>9999985261</td>\n",
       "      <td>PRIVATE LABEL COMPLETE PANCAKE MIX</td>\n",
       "      <td>pancake mixes</td>\n",
       "      <td>Private Label</td>\n",
       "      <td>2 LB</td>\n",
       "      <td>2 LB</td>\n",
       "      <td>PRIVATE LABEL COMPLETE PANCAKE MIX 2 LB</td>\n",
       "    </tr>\n",
       "    <tr>\n",
       "      <th>925</th>\n",
       "      <td>9999985488</td>\n",
       "      <td>PRIVATE LABEL ITAL NESTED ANGEL HAIR</td>\n",
       "      <td>pasta</td>\n",
       "      <td>Private Label Premium</td>\n",
       "      <td>16 OZ</td>\n",
       "      <td>16 OZ</td>\n",
       "      <td>PRIVATE LABEL ITAL NESTED ANGEL HAIR 16 OZ</td>\n",
       "    </tr>\n",
       "    <tr>\n",
       "      <th>926</th>\n",
       "      <td>9999985766</td>\n",
       "      <td>PRIVATE LABEL ITALIAN TRI COLORE CRE</td>\n",
       "      <td>pasta</td>\n",
       "      <td>Private Label Premium</td>\n",
       "      <td>16 OZ</td>\n",
       "      <td>16 OZ</td>\n",
       "      <td>PRIVATE LABEL ITALIAN TRI COLORE CRE 16 OZ</td>\n",
       "    </tr>\n",
       "  </tbody>\n",
       "</table>\n",
       "<p>927 rows × 7 columns</p>\n",
       "</div>"
      ],
      "text/plain": [
       "            upc                   product_description      commodity  \\\n",
       "0     111112360             VINCENT S ORIG MARINARA S    pasta sauce   \n",
       "1     566300023                   PINE MOUNTAIN SYRUP         syrups   \n",
       "2     566300028                     MILLER CANE SYRUP         syrups   \n",
       "3     566300029                     MILLER CANE SYRUP         syrups   \n",
       "4     566300035                   PINE MOUNTAIN SYRUP         syrups   \n",
       "..          ...                                   ...            ...   \n",
       "922  9999985217               PRIVATE LABEL ALPHABETS          pasta   \n",
       "923  9999985260    PRIVATE LABEL COMPLETE PANCAKE MIX  pancake mixes   \n",
       "924  9999985261    PRIVATE LABEL COMPLETE PANCAKE MIX  pancake mixes   \n",
       "925  9999985488  PRIVATE LABEL ITAL NESTED ANGEL HAIR          pasta   \n",
       "926  9999985766  PRIVATE LABEL ITALIAN TRI COLORE CRE          pasta   \n",
       "\n",
       "                     brand product_size product_size.1  \\\n",
       "0                Vincent's        25 OZ          25 OZ   \n",
       "1            Pine Mountain        40 OZ          40 OZ   \n",
       "2                   Miller        19 OZ          19 OZ   \n",
       "3                   Miller        12 OZ          12 OZ   \n",
       "4            Pine Mountain        19 OZ          19 OZ   \n",
       "..                     ...          ...            ...   \n",
       "922          Private Label        16 OZ          16 OZ   \n",
       "923          Private Label        32 OZ          32 OZ   \n",
       "924          Private Label         2 LB           2 LB   \n",
       "925  Private Label Premium        16 OZ          16 OZ   \n",
       "926  Private Label Premium        16 OZ          16 OZ   \n",
       "\n",
       "                                pro_descandsize  \n",
       "0               VINCENT S ORIG MARINARA S 25 OZ  \n",
       "1                     PINE MOUNTAIN SYRUP 40 OZ  \n",
       "2                       MILLER CANE SYRUP 19 OZ  \n",
       "3                       MILLER CANE SYRUP 12 OZ  \n",
       "4                     PINE MOUNTAIN SYRUP 19 OZ  \n",
       "..                                          ...  \n",
       "922               PRIVATE LABEL ALPHABETS 16 OZ  \n",
       "923    PRIVATE LABEL COMPLETE PANCAKE MIX 32 OZ  \n",
       "924     PRIVATE LABEL COMPLETE PANCAKE MIX 2 LB  \n",
       "925  PRIVATE LABEL ITAL NESTED ANGEL HAIR 16 OZ  \n",
       "926  PRIVATE LABEL ITALIAN TRI COLORE CRE 16 OZ  \n",
       "\n",
       "[927 rows x 7 columns]"
      ]
     },
     "execution_count": 28,
     "metadata": {},
     "output_type": "execute_result"
    }
   ],
   "source": [
    "df"
   ]
  },
  {
   "cell_type": "code",
   "execution_count": 29,
   "id": "711ed8f9",
   "metadata": {
    "scrolled": true
   },
   "outputs": [
    {
     "name": "stdout",
     "output_type": "stream",
     "text": [
      "<class 'pandas.core.frame.DataFrame'>\n",
      "RangeIndex: 927 entries, 0 to 926\n",
      "Data columns (total 7 columns):\n",
      " #   Column               Non-Null Count  Dtype \n",
      "---  ------               --------------  ----- \n",
      " 0   upc                  927 non-null    int64 \n",
      " 1   product_description  927 non-null    object\n",
      " 2   commodity            927 non-null    object\n",
      " 3   brand                927 non-null    object\n",
      " 4   product_size         927 non-null    object\n",
      " 5   product_size.1       927 non-null    object\n",
      " 6   pro_descandsize      927 non-null    object\n",
      "dtypes: int64(1), object(6)\n",
      "memory usage: 50.8+ KB\n"
     ]
    }
   ],
   "source": [
    "df.info()"
   ]
  },
  {
   "cell_type": "code",
   "execution_count": 30,
   "id": "3749951c",
   "metadata": {},
   "outputs": [],
   "source": [
    "df.to_excel('For Analyst Clean.xlsx', index = False)"
   ]
  },
  {
   "cell_type": "code",
   "execution_count": 6,
   "id": "dab18187",
   "metadata": {},
   "outputs": [],
   "source": [
    "import pandas as pd\n",
    "df = pd.read_excel('For Analyst.xlsx', sheet_name = 'dh_datemonth')"
   ]
  },
  {
   "cell_type": "code",
   "execution_count": 7,
   "id": "032ac9b1",
   "metadata": {},
   "outputs": [
    {
     "data": {
      "text/html": [
       "<div>\n",
       "<style scoped>\n",
       "    .dataframe tbody tr th:only-of-type {\n",
       "        vertical-align: middle;\n",
       "    }\n",
       "\n",
       "    .dataframe tbody tr th {\n",
       "        vertical-align: top;\n",
       "    }\n",
       "\n",
       "    .dataframe thead th {\n",
       "        text-align: right;\n",
       "    }\n",
       "</style>\n",
       "<table border=\"1\" class=\"dataframe\">\n",
       "  <thead>\n",
       "    <tr style=\"text-align: right;\">\n",
       "      <th></th>\n",
       "      <th>Date</th>\n",
       "      <th>Month</th>\n",
       "    </tr>\n",
       "  </thead>\n",
       "  <tbody>\n",
       "    <tr>\n",
       "      <th>0</th>\n",
       "      <td>1</td>\n",
       "      <td>NaN</td>\n",
       "    </tr>\n",
       "    <tr>\n",
       "      <th>1</th>\n",
       "      <td>2</td>\n",
       "      <td>NaN</td>\n",
       "    </tr>\n",
       "    <tr>\n",
       "      <th>2</th>\n",
       "      <td>3</td>\n",
       "      <td>NaN</td>\n",
       "    </tr>\n",
       "    <tr>\n",
       "      <th>3</th>\n",
       "      <td>4</td>\n",
       "      <td>NaN</td>\n",
       "    </tr>\n",
       "    <tr>\n",
       "      <th>4</th>\n",
       "      <td>5</td>\n",
       "      <td>NaN</td>\n",
       "    </tr>\n",
       "    <tr>\n",
       "      <th>...</th>\n",
       "      <td>...</td>\n",
       "      <td>...</td>\n",
       "    </tr>\n",
       "    <tr>\n",
       "      <th>190</th>\n",
       "      <td>191</td>\n",
       "      <td>NaN</td>\n",
       "    </tr>\n",
       "    <tr>\n",
       "      <th>191</th>\n",
       "      <td>192</td>\n",
       "      <td>NaN</td>\n",
       "    </tr>\n",
       "    <tr>\n",
       "      <th>192</th>\n",
       "      <td>193</td>\n",
       "      <td>NaN</td>\n",
       "    </tr>\n",
       "    <tr>\n",
       "      <th>193</th>\n",
       "      <td>194</td>\n",
       "      <td>NaN</td>\n",
       "    </tr>\n",
       "    <tr>\n",
       "      <th>194</th>\n",
       "      <td>195</td>\n",
       "      <td>NaN</td>\n",
       "    </tr>\n",
       "  </tbody>\n",
       "</table>\n",
       "<p>195 rows × 2 columns</p>\n",
       "</div>"
      ],
      "text/plain": [
       "     Date  Month\n",
       "0       1    NaN\n",
       "1       2    NaN\n",
       "2       3    NaN\n",
       "3       4    NaN\n",
       "4       5    NaN\n",
       "..    ...    ...\n",
       "190   191    NaN\n",
       "191   192    NaN\n",
       "192   193    NaN\n",
       "193   194    NaN\n",
       "194   195    NaN\n",
       "\n",
       "[195 rows x 2 columns]"
      ]
     },
     "execution_count": 7,
     "metadata": {},
     "output_type": "execute_result"
    }
   ],
   "source": [
    "df"
   ]
  },
  {
   "cell_type": "code",
   "execution_count": 8,
   "id": "d1ac0c86",
   "metadata": {},
   "outputs": [],
   "source": [
    "days_in_month = [31, 28, 31, 30, 31, 30, 31, 31, 30, 31, 30, 31]"
   ]
  },
  {
   "cell_type": "code",
   "execution_count": 12,
   "id": "af6f5459",
   "metadata": {},
   "outputs": [],
   "source": [
    "def cal_month(day):\n",
    "    total_days = 0\n",
    "    for month, days in enumerate(days_in_month, start=1):\n",
    "        total_days += days\n",
    "        if day <= total_days:\n",
    "            return month\n",
    "    return None"
   ]
  },
  {
   "cell_type": "code",
   "execution_count": 13,
   "id": "270efb90",
   "metadata": {},
   "outputs": [],
   "source": [
    "df['Month'] = df['Date'].apply(cal_month)"
   ]
  },
  {
   "cell_type": "code",
   "execution_count": 14,
   "id": "8e1fa054",
   "metadata": {},
   "outputs": [
    {
     "data": {
      "text/html": [
       "<div>\n",
       "<style scoped>\n",
       "    .dataframe tbody tr th:only-of-type {\n",
       "        vertical-align: middle;\n",
       "    }\n",
       "\n",
       "    .dataframe tbody tr th {\n",
       "        vertical-align: top;\n",
       "    }\n",
       "\n",
       "    .dataframe thead th {\n",
       "        text-align: right;\n",
       "    }\n",
       "</style>\n",
       "<table border=\"1\" class=\"dataframe\">\n",
       "  <thead>\n",
       "    <tr style=\"text-align: right;\">\n",
       "      <th></th>\n",
       "      <th>Date</th>\n",
       "      <th>Month</th>\n",
       "    </tr>\n",
       "  </thead>\n",
       "  <tbody>\n",
       "    <tr>\n",
       "      <th>0</th>\n",
       "      <td>1</td>\n",
       "      <td>1</td>\n",
       "    </tr>\n",
       "    <tr>\n",
       "      <th>1</th>\n",
       "      <td>2</td>\n",
       "      <td>1</td>\n",
       "    </tr>\n",
       "    <tr>\n",
       "      <th>2</th>\n",
       "      <td>3</td>\n",
       "      <td>1</td>\n",
       "    </tr>\n",
       "    <tr>\n",
       "      <th>3</th>\n",
       "      <td>4</td>\n",
       "      <td>1</td>\n",
       "    </tr>\n",
       "    <tr>\n",
       "      <th>4</th>\n",
       "      <td>5</td>\n",
       "      <td>1</td>\n",
       "    </tr>\n",
       "    <tr>\n",
       "      <th>...</th>\n",
       "      <td>...</td>\n",
       "      <td>...</td>\n",
       "    </tr>\n",
       "    <tr>\n",
       "      <th>190</th>\n",
       "      <td>191</td>\n",
       "      <td>7</td>\n",
       "    </tr>\n",
       "    <tr>\n",
       "      <th>191</th>\n",
       "      <td>192</td>\n",
       "      <td>7</td>\n",
       "    </tr>\n",
       "    <tr>\n",
       "      <th>192</th>\n",
       "      <td>193</td>\n",
       "      <td>7</td>\n",
       "    </tr>\n",
       "    <tr>\n",
       "      <th>193</th>\n",
       "      <td>194</td>\n",
       "      <td>7</td>\n",
       "    </tr>\n",
       "    <tr>\n",
       "      <th>194</th>\n",
       "      <td>195</td>\n",
       "      <td>7</td>\n",
       "    </tr>\n",
       "  </tbody>\n",
       "</table>\n",
       "<p>195 rows × 2 columns</p>\n",
       "</div>"
      ],
      "text/plain": [
       "     Date  Month\n",
       "0       1      1\n",
       "1       2      1\n",
       "2       3      1\n",
       "3       4      1\n",
       "4       5      1\n",
       "..    ...    ...\n",
       "190   191      7\n",
       "191   192      7\n",
       "192   193      7\n",
       "193   194      7\n",
       "194   195      7\n",
       "\n",
       "[195 rows x 2 columns]"
      ]
     },
     "execution_count": 14,
     "metadata": {},
     "output_type": "execute_result"
    }
   ],
   "source": [
    "df"
   ]
  },
  {
   "cell_type": "code",
   "execution_count": 15,
   "id": "41ebb4fd",
   "metadata": {},
   "outputs": [],
   "source": [
    "df.to_excel('date_month.xlsx', index = False)"
   ]
  },
  {
   "cell_type": "code",
   "execution_count": 70,
   "id": "e9fa0d98",
   "metadata": {},
   "outputs": [],
   "source": [
    "import pandas as pd\n",
    "df = pd.read_csv('dh_transactions.csv')"
   ]
  },
  {
   "cell_type": "code",
   "execution_count": 20,
   "id": "2f89d844",
   "metadata": {},
   "outputs": [
    {
     "data": {
      "text/html": [
       "<div>\n",
       "<style scoped>\n",
       "    .dataframe tbody tr th:only-of-type {\n",
       "        vertical-align: middle;\n",
       "    }\n",
       "\n",
       "    .dataframe tbody tr th {\n",
       "        vertical-align: top;\n",
       "    }\n",
       "\n",
       "    .dataframe thead th {\n",
       "        text-align: right;\n",
       "    }\n",
       "</style>\n",
       "<table border=\"1\" class=\"dataframe\">\n",
       "  <thead>\n",
       "    <tr style=\"text-align: right;\">\n",
       "      <th></th>\n",
       "      <th>upc</th>\n",
       "      <th>dollar_sales</th>\n",
       "      <th>units</th>\n",
       "      <th>time_of_transaction</th>\n",
       "      <th>geography</th>\n",
       "      <th>week</th>\n",
       "      <th>household</th>\n",
       "      <th>store</th>\n",
       "      <th>basket</th>\n",
       "      <th>day</th>\n",
       "      <th>coupon</th>\n",
       "      <th>Time</th>\n",
       "      <th>Price</th>\n",
       "    </tr>\n",
       "  </thead>\n",
       "  <tbody>\n",
       "    <tr>\n",
       "      <th>0</th>\n",
       "      <td>7680850106</td>\n",
       "      <td>0.80</td>\n",
       "      <td>1</td>\n",
       "      <td>1100</td>\n",
       "      <td>2</td>\n",
       "      <td>1</td>\n",
       "      <td>125434</td>\n",
       "      <td>244</td>\n",
       "      <td>1</td>\n",
       "      <td>1</td>\n",
       "      <td>0</td>\n",
       "      <td>11:00</td>\n",
       "      <td>0.80</td>\n",
       "    </tr>\n",
       "    <tr>\n",
       "      <th>1</th>\n",
       "      <td>3620000470</td>\n",
       "      <td>3.59</td>\n",
       "      <td>1</td>\n",
       "      <td>1100</td>\n",
       "      <td>2</td>\n",
       "      <td>1</td>\n",
       "      <td>125434</td>\n",
       "      <td>244</td>\n",
       "      <td>1</td>\n",
       "      <td>1</td>\n",
       "      <td>0</td>\n",
       "      <td>11:00</td>\n",
       "      <td>3.59</td>\n",
       "    </tr>\n",
       "    <tr>\n",
       "      <th>2</th>\n",
       "      <td>1800028064</td>\n",
       "      <td>2.25</td>\n",
       "      <td>1</td>\n",
       "      <td>1137</td>\n",
       "      <td>2</td>\n",
       "      <td>1</td>\n",
       "      <td>108320</td>\n",
       "      <td>244</td>\n",
       "      <td>2</td>\n",
       "      <td>1</td>\n",
       "      <td>0</td>\n",
       "      <td>11:37</td>\n",
       "      <td>2.25</td>\n",
       "    </tr>\n",
       "    <tr>\n",
       "      <th>3</th>\n",
       "      <td>9999985067</td>\n",
       "      <td>0.85</td>\n",
       "      <td>1</td>\n",
       "      <td>1148</td>\n",
       "      <td>2</td>\n",
       "      <td>1</td>\n",
       "      <td>162016</td>\n",
       "      <td>244</td>\n",
       "      <td>3</td>\n",
       "      <td>1</td>\n",
       "      <td>0</td>\n",
       "      <td>11:48</td>\n",
       "      <td>0.85</td>\n",
       "    </tr>\n",
       "    <tr>\n",
       "      <th>4</th>\n",
       "      <td>9999985131</td>\n",
       "      <td>2.19</td>\n",
       "      <td>1</td>\n",
       "      <td>1323</td>\n",
       "      <td>2</td>\n",
       "      <td>1</td>\n",
       "      <td>89437</td>\n",
       "      <td>244</td>\n",
       "      <td>4</td>\n",
       "      <td>1</td>\n",
       "      <td>0</td>\n",
       "      <td>13:23</td>\n",
       "      <td>2.19</td>\n",
       "    </tr>\n",
       "    <tr>\n",
       "      <th>...</th>\n",
       "      <td>...</td>\n",
       "      <td>...</td>\n",
       "      <td>...</td>\n",
       "      <td>...</td>\n",
       "      <td>...</td>\n",
       "      <td>...</td>\n",
       "      <td>...</td>\n",
       "      <td>...</td>\n",
       "      <td>...</td>\n",
       "      <td>...</td>\n",
       "      <td>...</td>\n",
       "      <td>...</td>\n",
       "      <td>...</td>\n",
       "    </tr>\n",
       "    <tr>\n",
       "      <th>1048570</th>\n",
       "      <td>1510000011</td>\n",
       "      <td>2.35</td>\n",
       "      <td>2</td>\n",
       "      <td>1307</td>\n",
       "      <td>2</td>\n",
       "      <td>27</td>\n",
       "      <td>43825</td>\n",
       "      <td>346</td>\n",
       "      <td>665448</td>\n",
       "      <td>189</td>\n",
       "      <td>0</td>\n",
       "      <td>13:07</td>\n",
       "      <td>4.70</td>\n",
       "    </tr>\n",
       "    <tr>\n",
       "      <th>1048571</th>\n",
       "      <td>3620000489</td>\n",
       "      <td>0.99</td>\n",
       "      <td>2</td>\n",
       "      <td>1307</td>\n",
       "      <td>2</td>\n",
       "      <td>27</td>\n",
       "      <td>43825</td>\n",
       "      <td>346</td>\n",
       "      <td>665448</td>\n",
       "      <td>189</td>\n",
       "      <td>0</td>\n",
       "      <td>13:07</td>\n",
       "      <td>1.98</td>\n",
       "    </tr>\n",
       "    <tr>\n",
       "      <th>1048572</th>\n",
       "      <td>9999971309</td>\n",
       "      <td>2.00</td>\n",
       "      <td>2</td>\n",
       "      <td>1410</td>\n",
       "      <td>2</td>\n",
       "      <td>27</td>\n",
       "      <td>42140</td>\n",
       "      <td>346</td>\n",
       "      <td>665449</td>\n",
       "      <td>189</td>\n",
       "      <td>0</td>\n",
       "      <td>14:10</td>\n",
       "      <td>4.00</td>\n",
       "    </tr>\n",
       "    <tr>\n",
       "      <th>1048573</th>\n",
       "      <td>3620000250</td>\n",
       "      <td>1.98</td>\n",
       "      <td>2</td>\n",
       "      <td>1415</td>\n",
       "      <td>2</td>\n",
       "      <td>27</td>\n",
       "      <td>53544</td>\n",
       "      <td>346</td>\n",
       "      <td>665450</td>\n",
       "      <td>189</td>\n",
       "      <td>0</td>\n",
       "      <td>14:15</td>\n",
       "      <td>3.96</td>\n",
       "    </tr>\n",
       "    <tr>\n",
       "      <th>1048574</th>\n",
       "      <td>3620000350</td>\n",
       "      <td>1.98</td>\n",
       "      <td>2</td>\n",
       "      <td>1415</td>\n",
       "      <td>2</td>\n",
       "      <td>27</td>\n",
       "      <td>53544</td>\n",
       "      <td>346</td>\n",
       "      <td>665450</td>\n",
       "      <td>189</td>\n",
       "      <td>0</td>\n",
       "      <td>14:15</td>\n",
       "      <td>3.96</td>\n",
       "    </tr>\n",
       "  </tbody>\n",
       "</table>\n",
       "<p>1048575 rows × 13 columns</p>\n",
       "</div>"
      ],
      "text/plain": [
       "                upc  dollar_sales  units  time_of_transaction  geography  \\\n",
       "0        7680850106          0.80      1                 1100          2   \n",
       "1        3620000470          3.59      1                 1100          2   \n",
       "2        1800028064          2.25      1                 1137          2   \n",
       "3        9999985067          0.85      1                 1148          2   \n",
       "4        9999985131          2.19      1                 1323          2   \n",
       "...             ...           ...    ...                  ...        ...   \n",
       "1048570  1510000011          2.35      2                 1307          2   \n",
       "1048571  3620000489          0.99      2                 1307          2   \n",
       "1048572  9999971309          2.00      2                 1410          2   \n",
       "1048573  3620000250          1.98      2                 1415          2   \n",
       "1048574  3620000350          1.98      2                 1415          2   \n",
       "\n",
       "         week  household  store  basket  day  coupon   Time  Price  \n",
       "0           1     125434    244       1    1       0  11:00   0.80  \n",
       "1           1     125434    244       1    1       0  11:00   3.59  \n",
       "2           1     108320    244       2    1       0  11:37   2.25  \n",
       "3           1     162016    244       3    1       0  11:48   0.85  \n",
       "4           1      89437    244       4    1       0  13:23   2.19  \n",
       "...       ...        ...    ...     ...  ...     ...    ...    ...  \n",
       "1048570    27      43825    346  665448  189       0  13:07   4.70  \n",
       "1048571    27      43825    346  665448  189       0  13:07   1.98  \n",
       "1048572    27      42140    346  665449  189       0  14:10   4.00  \n",
       "1048573    27      53544    346  665450  189       0  14:15   3.96  \n",
       "1048574    27      53544    346  665450  189       0  14:15   3.96  \n",
       "\n",
       "[1048575 rows x 13 columns]"
      ]
     },
     "execution_count": 20,
     "metadata": {},
     "output_type": "execute_result"
    }
   ],
   "source": [
    "df"
   ]
  },
  {
   "cell_type": "code",
   "execution_count": 29,
   "id": "81f1d1e1",
   "metadata": {},
   "outputs": [
    {
     "name": "stdout",
     "output_type": "stream",
     "text": [
      "        household  bills\n",
      "0               1      1\n",
      "1               2     14\n",
      "2               5      2\n",
      "3               6      1\n",
      "4               7      1\n",
      "...           ...    ...\n",
      "249605     510020      1\n",
      "249606     510021      5\n",
      "249607     510022      2\n",
      "249608     510023      1\n",
      "249609     510027      1\n",
      "\n",
      "[249610 rows x 2 columns]\n"
     ]
    }
   ],
   "source": [
    "unique_bill_by_customer = df.groupby('household')['basket'].nunique().reset_index(name = 'bills')\n",
    "print(unique_bill_by_customer)"
   ]
  },
  {
   "cell_type": "code",
   "execution_count": 30,
   "id": "18135349",
   "metadata": {},
   "outputs": [],
   "source": [
    "top20_households = unique_bill_by_customer.sort_values(by = 'bills', ascending = False).head(40)"
   ]
  },
  {
   "cell_type": "code",
   "execution_count": 31,
   "id": "7e613f67",
   "metadata": {},
   "outputs": [
    {
     "name": "stdout",
     "output_type": "stream",
     "text": [
      "TOP 20:\n",
      "        household  bills\n",
      "35746       56869     47\n",
      "196743     323105     42\n",
      "50156       79606     42\n",
      "83576      133748     41\n",
      "66951      106758     41\n",
      "17722       28955     41\n",
      "178857     293395     40\n",
      "44264       70459     37\n",
      "241988     425783     36\n",
      "244940     451623     35\n",
      "151124     244980     34\n",
      "144325     232513     34\n",
      "45091       71731     34\n",
      "79231      126543     33\n",
      "121820     194354     32\n",
      "173015     283523     31\n",
      "207936     340439     31\n",
      "170483     278738     31\n",
      "52649       83630     30\n",
      "51166       81224     29\n",
      "108583     173638     29\n",
      "246702     470589     29\n",
      "177921     291871     29\n",
      "112058     178863     29\n",
      "87777      140873     28\n",
      "126116     201449     28\n",
      "243316     439406     28\n",
      "142378     229178     28\n",
      "86674      139025     27\n",
      "35860       57063     27\n",
      "238421     402517     27\n",
      "208067     340632     27\n",
      "7642        12940     27\n",
      "212718     348215     27\n",
      "30764       48590     27\n",
      "102102     163278     27\n",
      "119427     190449     26\n",
      "135980     218288     26\n",
      "163117     265319     26\n",
      "204185     334969     26\n"
     ]
    }
   ],
   "source": [
    "print(\"TOP 20:\")\n",
    "print(top20_households)"
   ]
  },
  {
   "cell_type": "code",
   "execution_count": 27,
   "id": "4a3dd0f8",
   "metadata": {},
   "outputs": [],
   "source": [
    "top20_households = unique_bill_by_customer.sort_values(by = 'bills').head(100)"
   ]
  },
  {
   "cell_type": "code",
   "execution_count": 28,
   "id": "6dfa5f54",
   "metadata": {},
   "outputs": [
    {
     "name": "stdout",
     "output_type": "stream",
     "text": [
      "bottom 20:\n",
      "        household  bills\n",
      "0               1      1\n",
      "139213     223745      1\n",
      "139214     223746      1\n",
      "139215     223748      1\n",
      "139216     223750      1\n",
      "...           ...    ...\n",
      "139042     223455      1\n",
      "139038     223446      1\n",
      "139013     223406      1\n",
      "139014     223407      1\n",
      "139015     223411      1\n",
      "\n",
      "[100 rows x 2 columns]\n"
     ]
    }
   ],
   "source": [
    "print(\"bottom 20:\")\n",
    "print(top20_households)"
   ]
  },
  {
   "cell_type": "code",
   "execution_count": 37,
   "id": "8d0f0c24",
   "metadata": {},
   "outputs": [],
   "source": [
    "unique_values = unique_bill_by_customer['bills'].unique()"
   ]
  },
  {
   "cell_type": "code",
   "execution_count": 44,
   "id": "6c03ef38",
   "metadata": {},
   "outputs": [
    {
     "name": "stdout",
     "output_type": "stream",
     "text": [
      "[ 1  2  3  4  5  6  7  8  9 10 11 12 13 14 15 16 17 18 19 20 21 22 23 24\n",
      " 25 26 27 28 29 30 31 32 33 34 35 36 37 40 41 42 47]\n"
     ]
    }
   ],
   "source": [
    "import numpy as np\n",
    "sorted_unique_values = np.sort(uni)\n",
    "print(sorted_unique_values)\n"
   ]
  },
  {
   "cell_type": "code",
   "execution_count": 45,
   "id": "8653af2e",
   "metadata": {},
   "outputs": [
    {
     "name": "stdout",
     "output_type": "stream",
     "text": [
      "Q1 (25th percentile): 11.0\n",
      "Median (50th percentile)/Q2: 21.0\n",
      "Q3 (75th percentile): 31.0\n"
     ]
    }
   ],
   "source": [
    "Q1 = np.percentile(sorted_unique_values, 25)\n",
    "Q2 = np.percentile(sorted_unique_values, 50)\n",
    "Q3 = np.percentile(sorted_unique_values, 75)\n",
    "\n"
   ]
  },
  {
   "cell_type": "code",
   "execution_count": 59,
   "id": "2886a500",
   "metadata": {},
   "outputs": [],
   "source": [
    "def classify_customer(bills):\n",
    "    if bills <= Q1:\n",
    "        return 'ลูกค้าขาจร'\n",
    "    else:\n",
    "        return 'ลูกค้าประจำ'"
   ]
  },
  {
   "cell_type": "code",
   "execution_count": 60,
   "id": "594ff895",
   "metadata": {},
   "outputs": [],
   "source": [
    "unique_bill_by_customer['Customer Group'] = unique_bill_by_customer['bills'].apply(classify_customer)"
   ]
  },
  {
   "cell_type": "code",
   "execution_count": 61,
   "id": "023ad324",
   "metadata": {},
   "outputs": [
    {
     "name": "stdout",
     "output_type": "stream",
     "text": [
      "        household  bills Customer Group\n",
      "0               1      1     ลูกค้าขาจร\n",
      "1               2     14    ลูกค้าประจำ\n",
      "2               5      2     ลูกค้าขาจร\n",
      "3               6      1     ลูกค้าขาจร\n",
      "4               7      1     ลูกค้าขาจร\n",
      "...           ...    ...            ...\n",
      "249605     510020      1     ลูกค้าขาจร\n",
      "249606     510021      5     ลูกค้าขาจร\n",
      "249607     510022      2     ลูกค้าขาจร\n",
      "249608     510023      1     ลูกค้าขาจร\n",
      "249609     510027      1     ลูกค้าขาจร\n",
      "\n",
      "[249610 rows x 3 columns]\n"
     ]
    }
   ],
   "source": [
    "print(unique_bill_by_customer)"
   ]
  },
  {
   "cell_type": "code",
   "execution_count": 62,
   "id": "1e77c972",
   "metadata": {},
   "outputs": [],
   "source": [
    "unique_bill_by_customer.to_excel('dh_household_type2.xlsx', index = False)"
   ]
  },
  {
   "cell_type": "code",
   "execution_count": 66,
   "id": "5848a8bc",
   "metadata": {},
   "outputs": [],
   "source": [
    "df['dollar_sales'] = df['dollar_sales'].abs()\n",
    "df['Price'] = df['Price'].abs()"
   ]
  },
  {
   "cell_type": "code",
   "execution_count": 67,
   "id": "f311e6f2",
   "metadata": {},
   "outputs": [],
   "source": [
    "import seaborn as sns\n",
    "import matplotlib.pyplot as plt"
   ]
  },
  {
   "cell_type": "code",
   "execution_count": 74,
   "id": "32eea860",
   "metadata": {
    "scrolled": false
   },
   "outputs": [],
   "source": [
    "heatmap_data = df.groupby('Hours')['basket'].nunique().reset_index(name = 'Count')\n"
   ]
  },
  {
   "cell_type": "code",
   "execution_count": 78,
   "id": "5c51fbfa",
   "metadata": {
    "scrolled": false
   },
   "outputs": [
    {
     "data": {
      "image/png": "[encoded data removed]",
      "text/plain": [
       "<Figure size 1500x600 with 1 Axes>"
      ]
     },
     "metadata": {},
     "output_type": "display_data"
    }
   ],
   "source": [
    "plt.figure(figsize=(15, 6))\n",
    "sns.barplot(x='Hours', y='Count', data=heatmap_data)\n",
    "plt.title('Unique Baskets Count per Hour')\n",
    "plt.xlabel('Hours of Day')\n",
    "plt.ylabel('Unique Baskets Count')\n",
    "plt.show()"
   ]
  },
  {
   "cell_type": "code",
   "execution_count": 1,
   "id": "09bc8c29",
   "metadata": {},
   "outputs": [],
   "source": [
    "import pandas as pd\n",
    "import matplotlib.pyplot as plt\n",
    "import seaborn as sns\n"
   ]
  },
  {
   "cell_type": "code",
   "execution_count": 3,
   "id": "c7d72258",
   "metadata": {},
   "outputs": [],
   "source": [
    "transactions = pd.read_excel('dh_transaction.xlsx')\n",
    "product = pd.read_csv('dh_product_lookup.csv')\n"
   ]
  },
  {
   "cell_type": "code",
   "execution_count": 7,
   "id": "fb758cb1",
   "metadata": {},
   "outputs": [],
   "source": [
    "merged_data = pd.merge(transactions, product, on='upc', how='left')"
   ]
  },
  {
   "cell_type": "code",
   "execution_count": 13,
   "id": "403368b1",
   "metadata": {},
   "outputs": [],
   "source": [
    "product_sales_summary = merged_data.groupby('product_size')['units'].sum().reset_index()\n",
    "sort_product_sales_summary = product_sales_summary.sort_values(by = 'units', ascending = False).head(40)"
   ]
  },
  {
   "cell_type": "code",
   "execution_count": 15,
   "id": "f3c0698d",
   "metadata": {},
   "outputs": [
    {
     "data": {
      "image/png": "[encoded data removed]",
      "text/plain": [
       "<Figure size 1200x800 with 1 Axes>"
      ]
     },
     "metadata": {},
     "output_type": "display_data"
    }
   ],
   "source": [
    "plt.figure(figsize=(12, 8))\n",
    "sns.barplot(x='product_size', y='units', data=sort_product_sales_summary, palette='viridis')\n",
    "plt.title('Total Products Sold by Product Size')\n",
    "plt.xlabel('Product Size')\n",
    "plt.ylabel('Total Products Sold')\n",
    "plt.xticks(rotation=45)\n",
    "plt.show()\n"
   ]
  },
  {
   "cell_type": "code",
   "execution_count": 1,
   "id": "2784bc1b",
   "metadata": {},
   "outputs": [],
   "source": [
    "import pandas as pd\n",
    "import matplotlib.pyplot as plt\n",
    "import seaborn as sns\n",
    "transactions = pd.read_excel('dh_transaction.xlsx')\n",
    "product = pd.read_csv('dh_product_lookup.csv')\n"
   ]
  },
  {
   "cell_type": "code",
   "execution_count": 33,
   "id": "06512e00",
   "metadata": {},
   "outputs": [],
   "source": [
    "merged_data = pd.merge(transactions, product, on='upc', how='left')"
   ]
  },
  {
   "cell_type": "code",
   "execution_count": 34,
   "id": "d8d81fe5",
   "metadata": {
    "scrolled": true
   },
   "outputs": [
    {
     "data": {
      "text/html": [
       "<div>\n",
       "<style scoped>\n",
       "    .dataframe tbody tr th:only-of-type {\n",
       "        vertical-align: middle;\n",
       "    }\n",
       "\n",
       "    .dataframe tbody tr th {\n",
       "        vertical-align: top;\n",
       "    }\n",
       "\n",
       "    .dataframe thead th {\n",
       "        text-align: right;\n",
       "    }\n",
       "</style>\n",
       "<table border=\"1\" class=\"dataframe\">\n",
       "  <thead>\n",
       "    <tr style=\"text-align: right;\">\n",
       "      <th></th>\n",
       "      <th>commodity</th>\n",
       "      <th>Price</th>\n",
       "    </tr>\n",
       "  </thead>\n",
       "  <tbody>\n",
       "    <tr>\n",
       "      <th>0</th>\n",
       "      <td>pancake mixes</td>\n",
       "      <td>117868.53</td>\n",
       "    </tr>\n",
       "    <tr>\n",
       "      <th>1</th>\n",
       "      <td>pasta</td>\n",
       "      <td>818017.99</td>\n",
       "    </tr>\n",
       "    <tr>\n",
       "      <th>2</th>\n",
       "      <td>pasta sauce</td>\n",
       "      <td>1159129.60</td>\n",
       "    </tr>\n",
       "    <tr>\n",
       "      <th>3</th>\n",
       "      <td>syrups</td>\n",
       "      <td>386699.07</td>\n",
       "    </tr>\n",
       "  </tbody>\n",
       "</table>\n",
       "</div>"
      ],
      "text/plain": [
       "       commodity       Price\n",
       "0  pancake mixes   117868.53\n",
       "1          pasta   818017.99\n",
       "2    pasta sauce  1159129.60\n",
       "3         syrups   386699.07"
      ]
     },
     "execution_count": 34,
     "metadata": {},
     "output_type": "execute_result"
    }
   ],
   "source": [
    "commodity_data = merged_data.groupby('commodity')['Price'].sum().reset_index()\n",
    "commodity_data"
   ]
  },
  {
   "cell_type": "code",
   "execution_count": 44,
   "id": "be3aa4b0",
   "metadata": {},
   "outputs": [
    {
     "data": {
      "image/png": "[encoded data removed]",
      "text/plain": [
       "<Figure size 640x480 with 1 Axes>"
      ]
     },
     "metadata": {},
     "output_type": "display_data"
    }
   ],
   "source": [
    "fig, ax = plt.subplots()\n",
    "ax.axis('equal')\n",
    "\n",
    "sizes = commodity_data['Price']\n",
    "labels = commodity_data['commodity']\n",
    "explode = [0.1] * len(labels)\n",
    "\n",
    "ax.pie(sizes, explode = explode, labels = labels, autopct = '%1.1f%%', shadow = True, startangle = 90)\n",
    "\n",
    "ax.axis('equal')\n",
    "plt.show()"
   ]
  }
 ],
 "metadata": {
  "kernelspec": {
   "display_name": "Python 3 (ipykernel)",
   "language": "python",
   "name": "python3"
  },
  "language_info": {
   "codemirror_mode": {
    "name": "ipython",
    "version": 3
   },
   "file_extension": ".py",
   "mimetype": "text/x-python",
   "name": "python",
   "nbconvert_exporter": "python",
   "pygments_lexer": "ipython3",
   "version": "3.11.3"
  }
 },
 "nbformat": 4,
 "nbformat_minor": 5
}
